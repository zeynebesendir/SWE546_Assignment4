{
 "cells": [
  {
   "cell_type": "markdown",
   "metadata": {},
   "source": [
    "# SWE546_Assignment4\n",
    "<br>\n",
    "<br>\n",
    "<b>MovieLens Recommendation System</b>\n",
    "\n",
    "http://grouplens.org/datasets/movielens/\n",
    "\n",
    "Using the MovieLens 1M dataset, and using only the rankings, implement a recommendation sytem using SGD.\n",
    "\n",
    "<ul style=\"list-style-type:square\">\n",
    "  <li>The output of your program must be the highest estimated rankings for the first 10 movies of the first 20 users</li>\n",
    "  <li>Modify the program for mini batch and classical gradient descent</li>\n",
    "  <li>Compare the running times and solution quality as a function of the batch size</li>    \n",
    "  <li>Submit a short report with the plots of your results</li>\n",
    "</ul>\n",
    "\n",
    "<br>\n",
    "<ol>\n",
    "      <li>SGD is when batchsize = 1,</li>\n",
    "      <li>Gradient descent is batchsize = Number of observed entries in the matrix.</li>\n",
    "    </ol> \n",
    "\n",
    "<blockquote>\n",
    "import pandas as pd\n",
    "<br>\n",
    "rnames = ['user_id', 'movie_id', 'rating', 'timestamp'] \n",
    "<br>\n",
    "ratings = pd.read_table('data/ml-1m/ratings.dat', sep='::', header=None, names=rnames)\n",
    "</blockquote>"
   ]
  },
  {
   "cell_type": "markdown",
   "metadata": {},
   "source": [
    "<h3>SGD is when batchsize = 1</h3>"
   ]
  },
  {
   "cell_type": "code",
   "execution_count": 80,
   "metadata": {
    "collapsed": false
   },
   "outputs": [
    {
     "data": {
      "text/html": [
       "<div>\n",
       "<table border=\"1\" class=\"dataframe\">\n",
       "  <thead>\n",
       "    <tr style=\"text-align: right;\">\n",
       "      <th></th>\n",
       "      <th>user_id</th>\n",
       "      <th>movie_id</th>\n",
       "      <th>rating</th>\n",
       "      <th>timestamp</th>\n",
       "    </tr>\n",
       "  </thead>\n",
       "  <tbody>\n",
       "    <tr>\n",
       "      <th>0</th>\n",
       "      <td>1</td>\n",
       "      <td>1193</td>\n",
       "      <td>5</td>\n",
       "      <td>978300760</td>\n",
       "    </tr>\n",
       "    <tr>\n",
       "      <th>1</th>\n",
       "      <td>1</td>\n",
       "      <td>661</td>\n",
       "      <td>3</td>\n",
       "      <td>978302109</td>\n",
       "    </tr>\n",
       "    <tr>\n",
       "      <th>2</th>\n",
       "      <td>1</td>\n",
       "      <td>914</td>\n",
       "      <td>3</td>\n",
       "      <td>978301968</td>\n",
       "    </tr>\n",
       "  </tbody>\n",
       "</table>\n",
       "</div>"
      ],
      "text/plain": [
       "   user_id  movie_id  rating  timestamp\n",
       "0        1      1193       5  978300760\n",
       "1        1       661       3  978302109\n",
       "2        1       914       3  978301968"
      ]
     },
     "execution_count": 80,
     "metadata": {},
     "output_type": "execute_result"
    }
   ],
   "source": [
    "%matplotlib inline\n",
    "\n",
    "import numpy as np\n",
    "import pandas as pd\n",
    "import matplotlib.pylab as plt\n",
    "\n",
    "#set column names\n",
    "rnames = ['user_id', 'movie_id', 'rating', 'timestamp'] \n",
    "\n",
    "#get data and display first 3 of them\n",
    "rating = pd.read_table('data/ml-1m/ratings.dat', sep='::', header=None, names=rnames, engine='python')\n",
    "rating[0:3]\n"
   ]
  },
  {
   "cell_type": "code",
   "execution_count": 81,
   "metadata": {
    "collapsed": false
   },
   "outputs": [
    {
     "name": "stdout",
     "output_type": "stream",
     "text": [
      " User Count:  6041 \n",
      " Movie Count:  3953 \n",
      " Rating Count:  1000209\n"
     ]
    }
   ],
   "source": [
    "ratings = np.mat(rating) #Ys\n",
    "\n",
    "ratingCount=rating.shape[0]  #Ysize\n",
    "userCount=np.max(ratings[:,0]) +1 #Nr\n",
    "movieCount=np.max(ratings[:,1]) +1 #Nc\n",
    "\n",
    "print(' User Count: ', userCount, '\\n Movie Count: ', movieCount, '\\n Rating Count: ', ratingCount)\n"
   ]
  },
  {
   "cell_type": "code",
   "execution_count": 35,
   "metadata": {
    "collapsed": false
   },
   "outputs": [
    {
     "name": "stdout",
     "output_type": "stream",
     "text": [
      "[[        1      1193         5 978300760]\n",
      " [        1       661         3 978302109]\n",
      " [        1       914         3 978301968]\n",
      " ..., \n",
      " [     6040       562         5 956704746]\n",
      " [     6040      1096         4 956715648]\n",
      " [     6040      1097         4 956715569]]\n",
      "[[     2541      1453         4 974048043]\n",
      " [      121      3253         5 977458171]\n",
      " [     5955       377         2 957108741]\n",
      " ..., \n",
      " [     1837      1357         4 974838584]\n",
      " [     5135      2100         4 962089763]\n",
      " [     4088      3055         5 965429610]]\n"
     ]
    }
   ],
   "source": [
    "print(ratings)\n",
    "#Shuffle Ratings\n",
    "np.random.shuffle(ratings)\n",
    "print(ratings)"
   ]
  },
  {
   "cell_type": "code",
   "execution_count": 82,
   "metadata": {
    "collapsed": false
   },
   "outputs": [
    {
     "name": "stdout",
     "output_type": "stream",
     "text": [
      "[[ 0.  0.  0. ...,  0.  0.  0.]\n",
      " [ 0.  0.  0. ...,  0.  0.  0.]\n",
      " [ 0.  0.  0. ...,  0.  0.  0.]\n",
      " ..., \n",
      " [ 0.  0.  0. ...,  0.  0.  0.]\n",
      " [ 0.  0.  0. ...,  0.  0.  0.]\n",
      " [ 0.  0.  0. ...,  0.  0.  0.]]\n"
     ]
    }
   ],
   "source": [
    "\n",
    "# Create A, B matrices by using user and movie count \n",
    "A = np.mat(np.random.rand(userCount, 1))\n",
    "B = np.mat(np.random.rand(1, movieCount))\n",
    "\n",
    "#Create M and Y matrices (zero matrices) by using user and movie zero matrices\n",
    "M = np.zeros((userCount, movieCount))\n",
    "Y = np.zeros((userCount, movieCount))\n",
    "print(M)"
   ]
  },
  {
   "cell_type": "code",
   "execution_count": 83,
   "metadata": {
    "collapsed": false
   },
   "outputs": [
    {
     "name": "stdout",
     "output_type": "stream",
     "text": [
      "[[ 0.  0.  0. ...,  0.  0.  0.]\n",
      " [ 0.  5.  0. ...,  0.  0.  0.]\n",
      " [ 0.  0.  0. ...,  0.  0.  0.]\n",
      " ..., \n",
      " [ 0.  0.  0. ...,  0.  0.  0.]\n",
      " [ 0.  0.  0. ...,  0.  0.  0.]\n",
      " [ 0.  3.  0. ...,  0.  0.  0.]]\n",
      "[[ 0.  0.  0. ...,  0.  0.  0.]\n",
      " [ 0.  1.  0. ...,  0.  0.  0.]\n",
      " [ 0.  0.  0. ...,  0.  0.  0.]\n",
      " ..., \n",
      " [ 0.  0.  0. ...,  0.  0.  0.]\n",
      " [ 0.  0.  0. ...,  0.  0.  0.]\n",
      " [ 0.  1.  0. ...,  0.  0.  0.]]\n"
     ]
    }
   ],
   "source": [
    "for i in range(ratingCount):\n",
    "    \n",
    "    # Create the Mask matrix: M[user, movie]\n",
    "    M[ratings[i,0], ratings[i,1]] = 1\n",
    "    \n",
    "    # Create the Y matrix with the original values from the ratings table\n",
    "    Y[ratings[i,0] , ratings[i,1]] = ratings[i, 2]\n",
    "    \n",
    "print(Y)\n",
    "print(M)"
   ]
  },
  {
   "cell_type": "code",
   "execution_count": 84,
   "metadata": {
    "collapsed": true
   },
   "outputs": [],
   "source": [
    "# Create Eta, EPOCH \n",
    "EPOCH = 5\n",
    "Eta = 0.1\n",
    "eta = Eta"
   ]
  },
  {
   "cell_type": "code",
   "execution_count": 88,
   "metadata": {
    "collapsed": false
   },
   "outputs": [
    {
     "name": "stdout",
     "output_type": "stream",
     "text": [
      "[10.108472975302291, 9.823132522511596, 9.6960288011803559, 9.6352144703695135, 9.6142401877807071]\n"
     ]
    }
   ],
   "source": [
    "#holds total error\n",
    "errors=[]\n",
    "iterationCount= list(range(EPOCH))\n",
    "\n",
    "for i in range(EPOCH):\n",
    "    # average error\n",
    "    E = np.multiply(M, np.subtract(Y, A*B))\n",
    "    Err = np.sum(np.square(E)) / np.sum(M)\n",
    "    \n",
    "     # add to array\n",
    "    errors.append(Err)\n",
    "    \n",
    "    for k in range(10000):\n",
    "        u = ratings[k,0]\n",
    "        m = ratings[k,1]\n",
    "        \n",
    "        # find error for each point\n",
    "        err = ratings[k,2] - (A[u,:] * B[:,m])\n",
    "\n",
    "        \n",
    "       \n",
    "        temp_A = A[u,:] + (eta * err[0,0] * B[:,m].T)\n",
    "        B[:,m]   = B[:,m] + (eta * err[0,0] * A[u,:].T)\n",
    "        A[u,:]   = temp_A\n",
    "    \n",
    "    eta = Eta*1./(i+1)\n",
    "    \n",
    "print(errors)  "
   ]
  },
  {
   "cell_type": "code",
   "execution_count": 89,
   "metadata": {
    "collapsed": false
   },
   "outputs": [
    {
     "data": {
      "image/png": "[encoded data removed]",
      "text/plain": [
       "<matplotlib.figure.Figure at 0x27cb04062b0>"
      ]
     },
     "metadata": {},
     "output_type": "display_data"
    }
   ],
   "source": [
    "#display errors\n",
    "plt.plot(iterationCount, errors, 'ro-')\n",
    "plt.xlabel(\"EPOCH Iteration\")\n",
    "plt.ylabel(\"Total Error\")\n",
    "plt.show()\n",
    "\n"
   ]
  },
  {
   "cell_type": "code",
   "execution_count": 99,
   "metadata": {
    "collapsed": false
   },
   "outputs": [
    {
     "data": {
      "text/plain": [
       "matrix([[  6.94330494e-03,   1.21295173e+00,   1.10882997e+00, ...,\n",
       "           3.47763502e-01,   5.75549884e-01,   1.18427825e+00],\n",
       "        [  2.59304482e-02,   4.52988630e+00,   4.14103347e+00, ...,\n",
       "           1.29875665e+00,   2.14944707e+00,   4.42280240e+00],\n",
       "        [  2.43198188e-02,   4.24851946e+00,   3.88381962e+00, ...,\n",
       "           1.21808641e+00,   2.01593751e+00,   4.14808691e+00],\n",
       "        ..., \n",
       "        [  3.02461374e-03,   5.28381008e-01,   4.83023920e-01, ...,\n",
       "           1.51491297e-01,   2.50718657e-01,   5.15890385e-01],\n",
       "        [  4.62869697e-03,   8.08604263e-01,   7.39192354e-01, ...,\n",
       "           2.31833670e-01,   3.83685582e-01,   7.89489325e-01],\n",
       "        [  1.37109063e-03,   2.39520914e-01,   2.18960048e-01, ...,\n",
       "           6.86726685e-02,   1.13653521e-01,   2.33858777e-01]])"
      ]
     },
     "execution_count": 99,
     "metadata": {},
     "output_type": "execute_result"
    }
   ],
   "source": [
    "compoundData = A * B\n",
    "compoundData"
   ]
  },
  {
   "cell_type": "code",
   "execution_count": 108,
   "metadata": {
    "collapsed": false
   },
   "outputs": [
    {
     "name": "stdout",
     "output_type": "stream",
     "text": [
      "\n",
      "Movies for User = 1  as follows: \n",
      "\n",
      "1 \t (1.6406677440452238, 3163)\n",
      "2 \t (1.6239298636933153, 1192)\n",
      "3 \t (1.6070269013860397, 824)\n",
      "4 \t (1.5947707140140437, 771)\n",
      "5 \t (1.5731702346189802, 499)\n",
      "6 \t (1.5702787785801626, 3360)\n",
      "7 \t (1.5641932267861791, 3943)\n",
      "8 \t (1.5203450627643997, 2920)\n",
      "9 \t (1.5079993432717915, 1176)\n",
      "10 \t (1.506682976512153, 2917)\n",
      "\n",
      "Movies for User = 2  as follows: \n",
      "\n",
      "1 \t (6.1272334049706849, 3163)\n",
      "2 \t (6.0647241614063834, 1192)\n",
      "3 \t (6.0015984032094547, 824)\n",
      "4 \t (5.9558264783600539, 771)\n",
      "5 \t (5.8751573853074355, 499)\n",
      "6 \t (5.8643589612545766, 3360)\n",
      "7 \t (5.8416318756669492, 3943)\n",
      "8 \t (5.6778766386203223, 2920)\n",
      "9 \t (5.6317703473507716, 1176)\n",
      "10 \t (5.6268542475419441, 2917)\n",
      "\n",
      "Movies for User = 3  as follows: \n",
      "\n",
      "1 \t (5.7466498377913702, 3163)\n",
      "2 \t (5.6880232586083679, 1192)\n",
      "3 \t (5.6288184586396657, 824)\n",
      "4 \t (5.5858895856677595, 771)\n",
      "5 \t (5.5102311277853593, 499)\n",
      "6 \t (5.5001034310370329, 3360)\n",
      "7 \t (5.4787880030006768, 3943)\n",
      "8 \t (5.3252041676520721, 2920)\n",
      "9 \t (5.2819616969098311, 1176)\n",
      "10 \t (5.2773509529897371, 2917)\n",
      "\n",
      "Movies for User = 4  as follows: \n",
      "\n",
      "1 \t (6.1994803210533362, 3163)\n",
      "2 \t (6.1362340237853976, 1192)\n",
      "3 \t (6.0723639424896607, 824)\n",
      "4 \t (6.0260523155928647, 771)\n",
      "5 \t (5.9444320439558771, 499)\n",
      "6 \t (5.9335062944390105, 3360)\n",
      "7 \t (5.9105112311628032, 3943)\n",
      "8 \t (5.7448251372208921, 2920)\n",
      "9 \t (5.6981752013509039, 1176)\n",
      "10 \t (5.6932011352419751, 2917)\n",
      "\n",
      "Movies for User = 5  as follows: \n",
      "\n",
      "1 \t (6.2521399701154827, 3163)\n",
      "2 \t (6.1883564459113938, 1192)\n",
      "3 \t (6.1239438391308694, 824)\n",
      "4 \t (6.0772388318386872, 771)\n",
      "5 \t (5.9949252609833508, 499)\n",
      "6 \t (5.9839067059238413, 3360)\n",
      "7 \t (5.9607163178946587, 3943)\n",
      "8 \t (5.7936228525103655, 2920)\n",
      "9 \t (5.7465766625796384, 1176)\n",
      "10 \t (5.741560345739658, 2917)\n",
      "\n",
      "Movies for User = 6  as follows: \n",
      "\n",
      "1 \t (4.6819988073249004, 3163)\n",
      "2 \t (4.6342336604027325, 1192)\n",
      "3 \t (4.5859974165622841, 824)\n",
      "4 \t (4.5510217459145821, 771)\n",
      "5 \t (4.4893801252193519, 499)\n",
      "6 \t (4.481128732593203, 3360)\n",
      "7 \t (4.4637622997217345, 3943)\n",
      "8 \t (4.3386321187948038, 2920)\n",
      "9 \t (4.3034009489557228, 1176)\n",
      "10 \t (4.2996444128618068, 2917)\n",
      "\n",
      "Movies for User = 7  as follows: \n",
      "\n",
      "1 \t (5.9551483292867893, 3163)\n",
      "2 \t (5.8943946754313732, 1192)\n",
      "3 \t (5.8330418219304052, 824)\n",
      "4 \t (5.7885554144803448, 771)\n",
      "5 \t (5.7101519356235313, 499)\n",
      "6 \t (5.6996567883511684, 3360)\n",
      "7 \t (5.6775679993624992, 3943)\n",
      "8 \t (5.5184118742638431, 2920)\n",
      "9 \t (5.4736004911687033, 1176)\n",
      "10 \t (5.4688224614074423, 2917)\n",
      "\n",
      "Movies for User = 8  as follows: \n",
      "\n",
      "1 \t (6.5345351942488366, 3163)\n",
      "2 \t (6.4678707104533553, 1192)\n",
      "3 \t (6.4005487298239183, 824)\n",
      "4 \t (6.3517341614749672, 771)\n",
      "5 \t (6.2657026701312821, 499)\n",
      "6 \t (6.2541864315041416, 3360)\n",
      "7 \t (6.2299485853475751, 3943)\n",
      "8 \t (6.055307880644591, 2920)\n",
      "9 \t (6.0061367191979329, 1176)\n",
      "10 \t (6.0008938265095031, 2917)\n",
      "\n",
      "Movies for User = 9  as follows: \n",
      "\n",
      "1 \t (5.873769749493106, 3163)\n",
      "2 \t (5.8138463093947044, 1192)\n",
      "3 \t (5.7533318578626078, 824)\n",
      "4 \t (5.7094533682104309, 771)\n",
      "5 \t (5.6321212923493871, 499)\n",
      "6 \t (5.621769563869055, 3360)\n",
      "7 \t (5.5999826236636343, 3943)\n",
      "8 \t (5.4430014065118213, 2920)\n",
      "9 \t (5.3988023820874034, 1176)\n",
      "10 \t (5.3940896452885809, 2917)\n",
      "\n",
      "Movies for User = 10  as follows: \n",
      "\n",
      "1 \t (5.5287539347290187, 3163)\n",
      "2 \t (5.472350301397098, 1192)\n",
      "3 \t (5.4153903716952367, 824)\n",
      "4 \t (5.3740892341531366, 771)\n",
      "5 \t (5.3012995204033926, 499)\n",
      "6 \t (5.2915558358519474, 3360)\n",
      "7 \t (5.2710486255724129, 3943)\n",
      "8 \t (5.1232882333504435, 2920)\n",
      "9 \t (5.0816853887345523, 1176)\n",
      "10 \t (5.0772494705370308, 2917)\n",
      "\n",
      "Movies for User = 11  as follows: \n",
      "\n",
      "1 \t (6.471794837578055, 3163)\n",
      "2 \t (6.4057704227953298, 1192)\n",
      "3 \t (6.339094824035592, 824)\n",
      "4 \t (6.2907489414214179, 771)\n",
      "5 \t (6.205543468500065, 499)\n",
      "6 \t (6.1941378013057031, 3360)\n",
      "7 \t (6.1701326711828841, 3943)\n",
      "8 \t (5.9971687529347264, 2920)\n",
      "9 \t (5.9484697009978307, 1176)\n",
      "10 \t (5.9432771471548556, 2917)\n",
      "\n",
      "Movies for User = 12  as follows: \n",
      "\n",
      "1 \t (5.1659456589349109, 3163)\n",
      "2 \t (5.1132433487581279, 1192)\n",
      "3 \t (5.0600212475305408, 824)\n",
      "4 \t (5.0214303761129404, 771)\n",
      "5 \t (4.9534172740288378, 499)\n",
      "6 \t (4.9443129902236951, 3360)\n",
      "7 \t (4.9251515055254949, 3943)\n",
      "8 \t (4.7870874560537375, 2920)\n",
      "9 \t (4.748214676204956, 1176)\n",
      "10 \t (4.7440698521403624, 2917)\n",
      "\n",
      "Movies for User = 13  as follows: \n",
      "\n",
      "1 \t (5.8890596136557534, 3163)\n",
      "2 \t (5.8289801883386003, 1192)\n",
      "3 \t (5.7683082131405685, 824)\n",
      "4 \t (5.7243155044816794, 771)\n",
      "5 \t (5.6467821274144665, 499)\n",
      "6 \t (5.6364034526068068, 3360)\n",
      "7 \t (5.6145597993584069, 3943)\n",
      "8 \t (5.4571699482987786, 2920)\n",
      "9 \t (5.4128558704915433, 1176)\n",
      "10 \t (5.4081308660845986, 2917)\n",
      "\n",
      "Movies for User = 14  as follows: \n",
      "\n",
      "1 \t (5.0289203095655814, 3163)\n",
      "2 \t (4.9776159142995091, 1192)\n",
      "3 \t (4.925805515303491, 824)\n",
      "4 \t (4.8882382565964333, 771)\n",
      "5 \t (4.8220291841498959, 499)\n",
      "6 \t (4.8131663890772174, 3360)\n",
      "7 \t (4.7945131577189777, 3943)\n",
      "8 \t (4.6601112208328388, 2920)\n",
      "9 \t (4.6222695312415647, 1176)\n",
      "10 \t (4.618234647544722, 2917)\n",
      "\n",
      "Movies for User = 15  as follows: \n",
      "\n",
      "1 \t (4.7067763159404361, 3163)\n",
      "2 \t (4.6587583920766047, 1192)\n",
      "3 \t (4.61026687821228, 824)\n",
      "4 \t (4.5751061135445932, 771)\n",
      "5 \t (4.5131382805091427, 499)\n",
      "6 \t (4.5048432208595059, 3360)\n",
      "7 \t (4.4873848834494421, 3943)\n",
      "8 \t (4.3615925036917194, 2920)\n",
      "9 \t (4.3261748877106916, 1176)\n",
      "10 \t (4.3223984717301587, 2917)\n",
      "\n",
      "Movies for User = 16  as follows: \n",
      "\n",
      "1 \t (5.3219724148018992, 3163)\n",
      "2 \t (5.2676783398202822, 1192)\n",
      "3 \t (5.2128487745690268, 824)\n",
      "4 \t (5.1730923453095707, 771)\n",
      "5 \t (5.1030250474643735, 499)\n",
      "6 \t (5.0936457875057073, 3360)\n",
      "7 \t (5.073905569601151, 3943)\n",
      "8 \t (4.9316715796841857, 2920)\n",
      "9 \t (4.8916247275296207, 1176)\n",
      "10 \t (4.887354717585203, 2917)\n",
      "\n",
      "Movies for User = 17  as follows: \n",
      "\n",
      "1 \t (6.0549358859007114, 3163)\n",
      "2 \t (5.9931642122851851, 1192)\n",
      "3 \t (5.9307832985238127, 824)\n",
      "4 \t (5.8855514537384401, 771)\n",
      "5 \t (5.8058342054920926, 499)\n",
      "6 \t (5.7951631960841947, 3360)\n",
      "7 \t (5.7727042758813463, 3943)\n",
      "8 \t (5.6108812481355077, 2920)\n",
      "9 \t (5.5653189822444586, 1176)\n",
      "10 \t (5.5604608893363299, 2917)\n",
      "\n",
      "Movies for User = 18  as follows: \n",
      "\n",
      "1 \t (6.1396038768833918, 3163)\n",
      "2 \t (6.0769684313628911, 1192)\n",
      "3 \t (6.0137152265082081, 824)\n",
      "4 \t (5.9678508912227564, 771)\n",
      "5 \t (5.8870189326998883, 499)\n",
      "6 \t (5.8761987073555462, 3360)\n",
      "7 \t (5.8534257373115359, 3943)\n",
      "8 \t (5.6893398894612135, 2920)\n",
      "9 \t (5.6431405126923107, 1176)\n",
      "10 \t (5.6382144876087974, 2917)\n",
      "\n",
      "Movies for User = 19  as follows: \n",
      "\n",
      "1 \t (5.7456098871001542, 3163)\n",
      "2 \t (5.686993917359743, 1192)\n",
      "3 \t (5.6277998314721813, 824)\n",
      "4 \t (5.5848787271850533, 771)\n",
      "5 \t (5.5092339609434866, 499)\n",
      "6 \t (5.4991080969682589, 3360)\n",
      "7 \t (5.4777965263087651, 3943)\n",
      "8 \t (5.3242404844781648, 2920)\n",
      "9 \t (5.2810058391713701, 1176)\n",
      "10 \t (5.2763959296411311, 2917)\n",
      "\n",
      "Movies for User = 20  as follows: \n",
      "\n",
      "1 \t (5.1718633486895644, 3163)\n",
      "2 \t (5.1191006670064647, 1192)\n",
      "3 \t (5.0658175988419512, 824)\n",
      "4 \t (5.0271825208415697, 771)\n",
      "5 \t (4.9590915084455984, 499)\n",
      "6 \t (4.9499767955088787, 3360)\n",
      "7 \t (4.9307933609627383, 3943)\n",
      "8 \t (4.7925711564763933, 2920)\n",
      "9 \t (4.7536538471133207, 1176)\n",
      "10 \t (4.7495042750733285, 2917)\n"
     ]
    }
   ],
   "source": [
    "# Print data 10 movies of first 20 user\n",
    "for j in range(20):\n",
    "    \n",
    "    userData = [(0,0)]\n",
    "    \n",
    "    for m in range (movieCount):\n",
    "        movieData = (compoundData[j, m], m)\n",
    "        userData.append(movieData)\n",
    "        \n",
    "    userData = sorted(userData, key=lambda tup: tup[0], reverse=True)     \n",
    "    \n",
    "    print(\"\\nMovies for User =\" , j+1 , \" as follows: \\n\")\n",
    "    \n",
    "    for n in range(10):\n",
    "        print (n+1, \"\\t\", userData[n])"
   ]
  }
 ],
 "metadata": {
  "kernelspec": {
   "display_name": "Python 3",
   "language": "python",
   "name": "python3"
  }
 },
 "nbformat": 4,
 "nbformat_minor": 0
}
